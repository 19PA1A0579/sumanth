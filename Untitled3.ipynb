{
  "nbformat": 4,
  "nbformat_minor": 0,
  "metadata": {
    "colab": {
      "name": "Untitled3.ipynb",
      "provenance": [],
      "authorship_tag": "ABX9TyNOw4jckSpLJp1e1rg5ASJv",
      "include_colab_link": true
    },
    "kernelspec": {
      "name": "python3",
      "display_name": "Python 3"
    }
  },
  "cells": [
    {
      "cell_type": "markdown",
      "metadata": {
        "id": "view-in-github",
        "colab_type": "text"
      },
      "source": [
        "<a href=\"https://colab.research.google.com/github/19PA1A0579/sumanth/blob/master/Untitled3.ipynb\" target=\"_parent\"><img src=\"https://colab.research.google.com/assets/colab-badge.svg\" alt=\"Open In Colab\"/></a>"
      ]
    },
    {
      "cell_type": "code",
      "metadata": {
        "id": "7howZ5Wj7JS2",
        "colab_type": "code",
        "colab": {
          "base_uri": "https://localhost:8080/",
          "height": 136
        },
        "outputId": "e331a37c-92a5-4f08-e4aa-142075efacfd"
      },
      "source": [
        "def max2(l):\n",
        "  l.sort()\n",
        "  sh=l[-2]\n",
        "  return sh\n",
        "n=int(input(\"enter the length of the list\"))\n",
        "mad=[]\n",
        "for i in range(n):\n",
        "  a=int(input(\"enter a number:\"))\n",
        "  mad.append(a)\n",
        "m2=max2(mad)\n",
        "print(\"the second biggest number is %d\"%m2)"
      ],
      "execution_count": 1,
      "outputs": [
        {
          "output_type": "stream",
          "text": [
            "enter the length of the list5\n",
            "enter a number:2\n",
            "enter a number:3\n",
            "enter a number:4\n",
            "enter a number:5\n",
            "enter a number:6\n",
            "the second biggest number is 5\n"
          ],
          "name": "stdout"
        }
      ]
    }
  ]
}